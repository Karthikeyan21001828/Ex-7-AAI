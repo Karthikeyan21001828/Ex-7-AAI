{
  "nbformat": 4,
  "nbformat_minor": 0,
  "metadata": {
    "colab": {
      "provenance": []
    },
    "kernelspec": {
      "name": "python3",
      "display_name": "Python 3"
    },
    "language_info": {
      "name": "python"
    }
  },
  "cells": [
    {
      "cell_type": "code",
      "execution_count": 1,
      "metadata": {
        "colab": {
          "base_uri": "https://localhost:8080/"
        },
        "id": "TwGCm_n1QMMP",
        "outputId": "6927c536-e119-4e68-d1ef-dd77c999cca3"
      },
      "outputs": [
        {
          "output_type": "stream",
          "name": "stderr",
          "text": [
            "[nltk_data] Downloading package punkt to /root/nltk_data...\n",
            "[nltk_data]   Unzipping tokenizers/punkt.zip.\n",
            "[nltk_data] Downloading package stopwords to /root/nltk_data...\n",
            "[nltk_data]   Unzipping corpora/stopwords.zip.\n"
          ]
        },
        {
          "output_type": "execute_result",
          "data": {
            "text/plain": [
              "True"
            ]
          },
          "metadata": {},
          "execution_count": 1
        }
      ],
      "source": [
        "import nltk\n",
        "from nltk.corpus import stopwords\n",
        "from nltk.tokenize import word_tokenize, sent_tokenize\n",
        "from nltk.stem import PorterStemmer\n",
        "nltk.download('punkt')\n",
        "nltk.download('stopwords')"
      ]
    },
    {
      "cell_type": "code",
      "source": [
        "def preprocess_text(text):\n",
        "  words = word_tokenize (text)\n",
        "  # Remove stopwords and punctuation\n",
        "  stop_words = set(stopwords.words('english'))\n",
        "  filtered_words = [word for word in words if word.lower() not in stop_words and word.isalnum()]\n",
        "  # Stemming\n",
        "  stemmer = PorterStemmer()\n",
        "  stemmed_words = [stemmer.stem (word) for word in filtered_words]\n",
        "  return stemmed_words"
      ],
      "metadata": {
        "id": "mg-95rdRQTH-"
      },
      "execution_count": 2,
      "outputs": []
    },
    {
      "cell_type": "code",
      "source": [
        "def generate_summary (text, num_sentences=3):\n",
        "  sentences = sent_tokenize(text)\n",
        "  preprocessed_text = preprocess_text(text)\n",
        "  # Calculate the frequency of each word\n",
        "  word_frequencies = nltk. FreqDist(preprocessed_text)\n",
        "  # Calculate the score for each sentence based on word frequency\n",
        "  sentence_scores = {}\n",
        "  for sentence in sentences:\n",
        "    for word, freq in word_frequencies.items():\n",
        "      if word in sentence.lower():\n",
        "        if sentence not in sentence_scores:\n",
        "          sentence_scores [sentence] = freq\n",
        "        else:\n",
        "          sentence_scores [sentence] += freq\n",
        "  # Select top N sentences with highest scores\n",
        "  summary_sentences = sorted(sentence_scores, key=sentence_scores.get, reverse=True) [:num_sentences]\n",
        "  return''.join(summary_sentences)"
      ],
      "metadata": {
        "id": "pGL4MR7AQVlh"
      },
      "execution_count": 3,
      "outputs": []
    },
    {
      "cell_type": "code",
      "source": [
        "if __name__ == \"__main__\":\n",
        "  input_text = \"\"\"\n",
        "Natural language processing (NLP) is the ability of\n",
        "a computer program to understand human language as it's\n",
        "spoken and written -- referred to as natural language.\n",
        "It's a component of artificial intelligence (AI).\n",
        "\n",
        "NLP has existed for more than 50 years and has roots in\n",
        "the field of linguistics. It has a variety of real-world\n",
        "applications in numerous fields, including medical research,\n",
        "search engines and business intelligence.\n",
        "  \"\"\"\n",
        "\n",
        "  summary = generate_summary(input_text)\n",
        "  print(\"Original Text:\")\n",
        "  print(input_text)\n",
        "  print(\"\\nSummary:\")\n",
        "  print(summary)"
      ],
      "metadata": {
        "colab": {
          "base_uri": "https://localhost:8080/"
        },
        "id": "7eRdorZMQYTH",
        "outputId": "ad631a27-437b-4b9e-f074-0537f9156e9d"
      },
      "execution_count": 4,
      "outputs": [
        {
          "output_type": "stream",
          "name": "stdout",
          "text": [
            "Original Text:\n",
            "\n",
            "Natural language processing (NLP) is the ability of \n",
            "a computer program to understand human language as it's \n",
            "spoken and written -- referred to as natural language. \n",
            "It's a component of artificial intelligence (AI).\n",
            "\n",
            "NLP has existed for more than 50 years and has roots in \n",
            "the field of linguistics. It has a variety of real-world \n",
            "applications in numerous fields, including medical research, \n",
            "search engines and business intelligence.\n",
            "  \n",
            "\n",
            "Summary:\n",
            "\n",
            "Natural language processing (NLP) is the ability of \n",
            "a computer program to understand human language as it's \n",
            "spoken and written -- referred to as natural language.It has a variety of real-world \n",
            "applications in numerous fields, including medical research, \n",
            "search engines and business intelligence.NLP has existed for more than 50 years and has roots in \n",
            "the field of linguistics.\n"
          ]
        }
      ]
    },
    {
      "cell_type": "code",
      "source": [],
      "metadata": {
        "id": "yrRgBwEEQZm4"
      },
      "execution_count": null,
      "outputs": []
    }
  ]
}